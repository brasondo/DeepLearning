{
 "cells": [
  {
   "cell_type": "markdown",
   "id": "80eaff64",
   "metadata": {},
   "source": [
    "# CSE-676 Programming Assignment-1 [100pts]"
   ]
  },
  {
   "cell_type": "markdown",
   "id": "8b7282cf-e3ef-491d-84f7-88275c145f10",
   "metadata": {},
   "source": [
    "## Task-1 [20pts]"
   ]
  },
  {
   "cell_type": "markdown",
   "id": "2ef1de14-836c-4ffc-8413-cb2f7c3b199a",
   "metadata": {},
   "source": [
    "### Modular Implementation of a Neural Network for Binary Classification\n",
    "Implement a modular Two Layer Neural Network to classify datapoints from the given dataset.\n",
    "\n",
    "#### Dataset Source:\n",
    "https://scikit-learn.org/0.16/modules/generated/sklearn.datasets.make_moons.html\n",
    "\n",
    "#### References:\n",
    "https://cs231n.github.io/optimization-2/\n"
   ]
  },
  {
   "cell_type": "code",
   "id": "6a6cc8b4-958d-4ce9-a206-d82cf104e85b",
   "metadata": {
    "ExecuteTime": {
     "end_time": "2025-03-12T15:26:34.719048Z",
     "start_time": "2025-03-12T15:26:34.715048Z"
    }
   },
   "source": [
    "import numpy as np\n",
    "import matplotlib.pyplot as plt\n",
    "from sklearn.datasets import make_moons\n",
    "from sklearn.model_selection import train_test_split"
   ],
   "outputs": [],
   "execution_count": 18
  },
  {
   "cell_type": "code",
   "id": "3b9ba51c-05c6-4b96-bb80-196474356a2e",
   "metadata": {
    "ExecuteTime": {
     "end_time": "2025-03-12T15:26:34.729105Z",
     "start_time": "2025-03-12T15:26:34.724559Z"
    }
   },
   "source": [
    "X, y = make_moons(n_samples=500, noise=0.2, random_state=42)\n",
    "y = y.reshape(-1, 1)\n",
    "\n",
    "X_train, X_test, y_train, y_test = train_test_split(X, y, test_size=0.2, random_state=42)"
   ],
   "outputs": [],
   "execution_count": 19
  },
  {
   "cell_type": "markdown",
   "id": "070482e2-f74e-4727-97b0-c156443a3f9a",
   "metadata": {},
   "source": [
    "#### Step-1: Initialize Parameters such as Weights and Biases"
   ]
  },
  {
   "cell_type": "code",
   "id": "3e5ded9d-8f99-4921-9bd7-e051e2231574",
   "metadata": {
    "ExecuteTime": {
     "end_time": "2025-03-12T15:26:34.745320Z",
     "start_time": "2025-03-12T15:26:34.741110Z"
    }
   },
   "source": [
    "def initialize_parameters(n_x, n_h, n_y):\n",
    "    # ====================== YOUR CODE HERE ======================\n",
    "    \"\"\"\n",
    "    Initialize the parameters for a two-layer neural network.\n",
    "\n",
    "    Arguments:\n",
    "    n_x -- size of the input layer\n",
    "    n_h -- size of the hidden layer\n",
    "    n_y -- size of the output layer\n",
    "\n",
    "    Returns:\n",
    "    parameters -- dictionary containing parameters:\n",
    "                  W1 -- weight matrix of shape (n_h, n_x)\n",
    "                  b1 -- bias vector of shape (n_h, 1)\n",
    "                  W2 -- weight matrix of shape (n_y, n_h)\n",
    "                  b2 -- bias vector of shape (n_y, 1)\n",
    "    \"\"\"\n",
    "    np.random.seed(42)  # For reproducible results\n",
    "\n",
    "    # Initialize weights with small random values and biases with zeros\n",
    "    W1 = np.random.randn(n_h, n_x) * 0.01\n",
    "    b1 = np.zeros((n_h, 1))\n",
    "    W2 = np.random.randn(n_y, n_h) * 0.01\n",
    "    b2 = np.zeros((n_y, 1))\n",
    "\n",
    "    parameters = {\"W1\": W1, \"b1\": b1, \"W2\": W2, \"b2\": b2}\n",
    "\n",
    "    return parameters\n",
    "    # ============================================================"
   ],
   "outputs": [],
   "execution_count": 20
  },
  {
   "cell_type": "markdown",
   "id": "b59d43b2-864e-4b49-bc46-63568d0b86ea",
   "metadata": {},
   "source": [
    "#### Step-2: Define Sigmoid, ReLU & ReLU Functions"
   ]
  },
  {
   "cell_type": "code",
   "id": "c1d03d78-8040-424a-89b7-a166e52021e4",
   "metadata": {
    "ExecuteTime": {
     "end_time": "2025-03-12T15:26:34.776591Z",
     "start_time": "2025-03-12T15:26:34.771274Z"
    }
   },
   "source": [
    "def sigmoid(Z):\n",
    "    # ====================== YOUR CODE HERE ======================\n",
    "    \"\"\"\n",
    "    Sigmoid activation function\n",
    "\n",
    "    Arguments:\n",
    "    Z -- numpy array of any shape\n",
    "\n",
    "    Returns:\n",
    "    A -- output of sigmoid(z), same shape as Z\n",
    "    \"\"\"\n",
    "    A = 1 / (1 + np.exp(-Z))\n",
    "    return A\n",
    "    # ============================================================\n",
    "\n",
    "def relu(Z):\n",
    "    # ====================== YOUR CODE HERE ======================\n",
    "    \"\"\"\n",
    "    ReLU activation function\n",
    "\n",
    "    Arguments:\n",
    "    Z -- numpy array of any shape\n",
    "\n",
    "    Returns:\n",
    "    A -- output of relu(z), same shape as Z\n",
    "    \"\"\"\n",
    "    A = np.maximum(0, Z)\n",
    "    return A\n",
    "    # ============================================================\n",
    "    \n",
    "def relu_derivative(Z):\n",
    "    # ====================== YOUR CODE HERE ======================\n",
    "    \"\"\"\n",
    "    Derivative of the ReLU function\n",
    "\n",
    "    Arguments:\n",
    "    Z -- numpy array of any shape\n",
    "\n",
    "    Returns:\n",
    "    dA -- derivative of the ReLU function, same shape as Z\n",
    "    \"\"\"\n",
    "    dA = np.where(Z > 0, 1, 0)\n",
    "    return dA\n",
    "    # ============================================================"
   ],
   "outputs": [],
   "execution_count": 21
  },
  {
   "cell_type": "markdown",
   "id": "8055482c-9add-4603-8355-8adeb66ef3e7",
   "metadata": {},
   "source": [
    "#### Forward Propagation"
   ]
  },
  {
   "cell_type": "code",
   "id": "e88f6d6d-f1b8-49cc-9ef2-9a323c139d7e",
   "metadata": {
    "ExecuteTime": {
     "end_time": "2025-03-12T15:26:34.785686Z",
     "start_time": "2025-03-12T15:26:34.780806Z"
    }
   },
   "source": [
    "def forward_propagation(X, params):\n",
    "    # ====================== YOUR CODE HERE ======================\n",
    "    \"\"\"\n",
    "    Implement forward propagation for the model: LINEAR -> RELU -> LINEAR -> SIGMOID\n",
    "\n",
    "    Arguments:\n",
    "    X -- input data of shape (n_x, m), where m is the number of examples\n",
    "    params -- python dictionary containing parameters\n",
    "\n",
    "    Returns:\n",
    "    A2 -- final activations value\n",
    "    cache -- dictionary containing \"Z1\", \"A1\", \"Z2\", \"A2\"\n",
    "    \"\"\"\n",
    "    # Retrieve parameters from dictionary\n",
    "    W1 = params[\"W1\"]\n",
    "    b1 = params[\"b1\"]\n",
    "    W2 = params[\"W2\"]\n",
    "    b2 = params[\"b2\"]\n",
    "\n",
    "    # First layer - Linear -> ReLU\n",
    "    Z1 = np.dot(W1, X.T) + b1  # Shape: (n_h, m)\n",
    "    A1 = relu(Z1)              # Shape: (n_h, m)\n",
    "\n",
    "    # Second layer - Linear -> Sigmoid\n",
    "    Z2 = np.dot(W2, A1) + b2   # Shape: (n_y, m)\n",
    "    A2 = sigmoid(Z2)           # Shape: (n_y, m)\n",
    "    # ============================================================\n",
    "    cache = {\"Z1\": Z1, \"A1\": A1, \"Z2\": Z2, \"A2\": A2}\n",
    "    return A2, cache\n",
    "    "
   ],
   "outputs": [],
   "execution_count": 22
  },
  {
   "cell_type": "markdown",
   "id": "1da38a59-3f12-43e4-b5c8-4c7ff6080846",
   "metadata": {},
   "source": [
    "#### Step-3: Define Loss Function"
   ]
  },
  {
   "cell_type": "code",
   "id": "f365b798-9247-4094-b968-1a80cc0b887a",
   "metadata": {
    "ExecuteTime": {
     "end_time": "2025-03-12T15:26:34.807682Z",
     "start_time": "2025-03-12T15:26:34.802686Z"
    }
   },
   "source": [
    "def compute_loss(A2, Y):\n",
    "    # ====================== YOUR CODE HERE ======================\n",
    "    \"\"\"\n",
    "    Compute the binary cross-entropy loss\n",
    "\n",
    "    Arguments:\n",
    "    A2 -- probability vector of shape (1, m)\n",
    "    Y -- true \"label\" vector of shape (1, m)\n",
    "\n",
    "    Returns:\n",
    "    loss -- binary cross-entropy loss\n",
    "    \"\"\"\n",
    "    m = Y.shape[0]\n",
    "\n",
    "    # Binary cross-entropy loss\n",
    "    loss = -1/m * np.sum(Y * np.log(A2.T + 1e-8) + (1 - Y) * np.log(1 - A2.T + 1e-8))\n",
    "\n",
    "    # ============================================================\n",
    "    return np.squeeze(loss)\n"
   ],
   "outputs": [],
   "execution_count": 23
  },
  {
   "cell_type": "markdown",
   "id": "40665ac5-184a-4334-ac68-b5e77bfde757",
   "metadata": {},
   "source": [
    "#### Step-4: Compute Gradients at each layer"
   ]
  },
  {
   "cell_type": "code",
   "id": "7661a861-9dfa-4260-ac99-549ed8c19421",
   "metadata": {
    "ExecuteTime": {
     "end_time": "2025-03-12T15:26:34.832588Z",
     "start_time": "2025-03-12T15:26:34.826556Z"
    }
   },
   "source": [
    "def backward_propagation(X, Y, params, cache):\n",
    "    # ====================== YOUR CODE HERE ======================\n",
    "    \"\"\"\n",
    "    Implement backward propagation for the model\n",
    "\n",
    "    Arguments:\n",
    "    X -- input data of shape (n_x, m), where m is the number of examples\n",
    "    Y -- true \"label\" vector of shape (1, m)\n",
    "    params -- python dictionary containing parameters\n",
    "    cache -- dictionary containing \"Z1\", \"A1\", \"Z2\", \"A2\"\n",
    "\n",
    "    Returns:\n",
    "    grads -- python dictionary containing gradients with respect to different parameters\n",
    "    \"\"\"\n",
    "    m = X.shape[0]\n",
    "\n",
    "    # Retrieve parameters\n",
    "    W1 = params[\"W1\"]\n",
    "    W2 = params[\"W2\"]\n",
    "\n",
    "    # Retrieve activations from cache\n",
    "    A1 = cache[\"A1\"]\n",
    "    A2 = cache[\"A2\"]\n",
    "    Z1 = cache[\"Z1\"]\n",
    "\n",
    "    # Backpropagation\n",
    "    # Output layer\n",
    "    dZ2 = A2 - Y.T  # Shape: (n_y, m)\n",
    "    dW2 = 1/m * np.dot(dZ2, A1.T)  # Shape: (n_y, n_h)\n",
    "    db2 = 1/m * np.sum(dZ2, axis=1, keepdims=True)  # Shape: (n_y, 1)\n",
    "\n",
    "    # Hidden layer\n",
    "    dA1 = np.dot(W2.T, dZ2)  # Shape: (n_h, m)\n",
    "    dZ1 = dA1 * relu_derivative(Z1)  # Shape: (n_h, m)\n",
    "    dW1 = 1/m * np.dot(dZ1, X)  # Shape: (n_h, n_x)\n",
    "    db1 = 1/m * np.sum(dZ1, axis=1, keepdims=True)  # Shape: (n_h, 1)\n",
    "\n",
    "    # ============================================================\n",
    "    grads = {\"dW1\": dW1, \"db1\": db1, \"dW2\": dW2, \"db2\": db2}\n",
    "    return grads"
   ],
   "outputs": [],
   "execution_count": 24
  },
  {
   "cell_type": "markdown",
   "id": "ffb79a6d-c2d3-41af-942d-758e140c913d",
   "metadata": {},
   "source": [
    "#### Step-5: Define Weight Update step"
   ]
  },
  {
   "cell_type": "code",
   "id": "2635abce-6586-4fdc-86c1-278147aec4f1",
   "metadata": {
    "ExecuteTime": {
     "end_time": "2025-03-12T15:26:34.857615Z",
     "start_time": "2025-03-12T15:26:34.851614Z"
    }
   },
   "source": [
    "def update_parameters(params, grads, learning_rate):\n",
    "    # ====================== YOUR CODE HERE ======================\n",
    "    \"\"\"\n",
    "    Update parameters using gradient descent\n",
    "\n",
    "    Arguments:\n",
    "    params -- python dictionary containing parameters\n",
    "    grads -- python dictionary containing gradients\n",
    "    learning_rate -- learning rate for gradient descent\n",
    "\n",
    "    Returns:\n",
    "    params -- python dictionary containing updated parameters\n",
    "    \"\"\"\n",
    "    # Retrieve parameters\n",
    "    W1 = params[\"W1\"]\n",
    "    b1 = params[\"b1\"]\n",
    "    W2 = params[\"W2\"]\n",
    "    b2 = params[\"b2\"]\n",
    "\n",
    "    # Retrieve gradients\n",
    "    dW1 = grads[\"dW1\"]\n",
    "    db1 = grads[\"db1\"]\n",
    "    dW2 = grads[\"dW2\"]\n",
    "    db2 = grads[\"db2\"]\n",
    "\n",
    "    # Update parameters using gradient descent\n",
    "    W1 = W1 - learning_rate * dW1\n",
    "    b1 = b1 - learning_rate * db1\n",
    "    W2 = W2 - learning_rate * dW2\n",
    "    b2 = b2 - learning_rate * db2\n",
    "\n",
    "    params = {\"W1\": W1, \"b1\": b1, \"W2\": W2, \"b2\": b2}\n",
    "        # ============================================================\n",
    "    return params"
   ],
   "outputs": [],
   "execution_count": 25
  },
  {
   "cell_type": "code",
   "id": "800da1ef-078a-4771-bd64-4fb768b7690e",
   "metadata": {
    "ExecuteTime": {
     "end_time": "2025-03-12T15:26:34.883480Z",
     "start_time": "2025-03-12T15:26:34.877096Z"
    }
   },
   "source": [
    "lr = 0.1\n",
    "num_epochs = 10000\n",
    "\n",
    "def train(X, Y, n_h, learning_rate=lr, num_iterations=num_epochs):\n",
    "    n_x, n_y = X.shape[1], 1\n",
    "    print(n_x, n_y)\n",
    "    params = initialize_parameters(n_x, n_h, n_y)\n",
    "    \n",
    "    for i in range(num_iterations):\n",
    "        A2, cache = forward_propagation(X, params)\n",
    "        loss = compute_loss(A2, Y)\n",
    "        grads = backward_propagation(X, Y, params, cache)\n",
    "        params = update_parameters(params, grads, learning_rate)\n",
    "        \n",
    "        if i % 1000 == 0:\n",
    "            print(f\"Iteration {i}: Loss = {loss:.4f}\")\n",
    "    return params"
   ],
   "outputs": [],
   "execution_count": 26
  },
  {
   "cell_type": "code",
   "id": "393a527c-9ea1-4ec0-849c-3534bd8dedd7",
   "metadata": {
    "ExecuteTime": {
     "end_time": "2025-03-12T15:26:34.910012Z",
     "start_time": "2025-03-12T15:26:34.905008Z"
    }
   },
   "source": [
    "def predict(X, params):\n",
    "    A2, _ = forward_propagation(X, params)\n",
    "    return (A2 > 0.5).astype(int).T"
   ],
   "outputs": [],
   "execution_count": 27
  },
  {
   "cell_type": "code",
   "id": "deff1f68-ff73-42d6-bc40-4f9afba13bd5",
   "metadata": {
    "ExecuteTime": {
     "end_time": "2025-03-12T15:26:35.484290Z",
     "start_time": "2025-03-12T15:26:34.930065Z"
    }
   },
   "source": [
    "params = train(X_train, y_train, n_h=4, learning_rate=0.1, num_iterations=10000)\n",
    "\n",
    "train_preds = predict(X_train, params)\n",
    "test_preds = predict(X_test, params)\n",
    "train_acc = np.mean(train_preds == y_train) * 100\n",
    "test_acc = np.mean(test_preds == y_test) * 100\n",
    "print(f\"Train Accuracy: {train_acc:.2f}%\")\n",
    "print(f\"Test Accuracy: {test_acc:.2f}%\")"
   ],
   "outputs": [
    {
     "name": "stdout",
     "output_type": "stream",
     "text": [
      "2 1\n",
      "Iteration 0: Loss = 0.6932\n",
      "Iteration 1000: Loss = 0.2798\n",
      "Iteration 2000: Loss = 0.2793\n",
      "Iteration 3000: Loss = 0.2791\n",
      "Iteration 4000: Loss = 0.2778\n",
      "Iteration 5000: Loss = 0.2711\n",
      "Iteration 6000: Loss = 0.2611\n",
      "Iteration 7000: Loss = 0.2559\n",
      "Iteration 8000: Loss = 0.2535\n",
      "Iteration 9000: Loss = 0.2521\n",
      "Train Accuracy: 87.00%\n",
      "Test Accuracy: 86.00%\n"
     ]
    }
   ],
   "execution_count": 28
  },
  {
   "cell_type": "code",
   "id": "b5224dab-7250-438a-87f9-d68039d70c5f",
   "metadata": {
    "ExecuteTime": {
     "end_time": "2025-03-12T15:26:35.582897Z",
     "start_time": "2025-03-12T15:26:35.499330Z"
    }
   },
   "source": [
    "def plot_decision_boundary(X, y, params):\n",
    "    x_min, x_max = X[:, 0].min() - 1, X[:, 0].max() + 1\n",
    "    y_min, y_max = X[:, 1].min() - 1, X[:, 1].max() + 1\n",
    "    xx, yy = np.meshgrid(np.linspace(x_min, x_max, 100), np.linspace(y_min, y_max, 100))\n",
    "    grid_points = np.c_[xx.ravel(), yy.ravel()]\n",
    "    predictions = predict(grid_points, params).reshape(xx.shape)\n",
    "    plt.contourf(xx, yy, predictions, alpha=0.6)\n",
    "    plt.scatter(X[:, 0], X[:, 1], c=y.ravel(), edgecolors='k')\n",
    "    plt.show()\n",
    "plot_decision_boundary(X, y, params)"
   ],
   "outputs": [
    {
     "data": {
      "text/plain": [
       "<Figure size 640x480 with 1 Axes>"
      ],
      "image/png": "[encoded data removed]"
     },
     "metadata": {},
     "output_type": "display_data"
    }
   ],
   "execution_count": 29
  },
  {
   "cell_type": "markdown",
   "id": "6d61d68c-9e02-4a66-8598-f332e589c2a9",
   "metadata": {},
   "source": [
    "## Task-2 [15pts]"
   ]
  },
  {
   "cell_type": "markdown",
   "id": "a0bef271-2d43-4570-bafc-b7723ce8e3ca",
   "metadata": {},
   "source": [
    "### XOR Function"
   ]
  },
  {
   "cell_type": "markdown",
   "id": "c9c76c18-8434-4bca-88da-7d5a1d4032d1",
   "metadata": {},
   "source": [
    "This Task helps to explores how to train a Feedforward Neural Network (FFN) to approximate mathematical functions. \n",
    "#### Objective:\n",
    "- Understand and generate data for different functions\n",
    "- Design a simple NN using PyTorch\n",
    "- rain model to accurately predict required outputs.\n",
    "- Understand the use of Linear & Non-Linear Activation Functions."
   ]
  },
  {
   "cell_type": "markdown",
   "id": "0d99255a-fc97-4d7e-8407-7348f09a88f6",
   "metadata": {},
   "source": [
    "#### XOR Truth Table\n",
    "\n",
    "XOR (exclusive OR) function, a fundamental problem in neural networks that demonstrates the need for non-linear activation functions.\n",
    "\n",
    "$\n",
    "\\begin{array}{|c|c|c|}\n",
    "\\hline\n",
    "A & B & A \\oplus B \\\\\n",
    "\\hline\n",
    "F & F & F \\\\\n",
    "F & T & T \\\\\n",
    "T & F & T \\\\\n",
    "T & T & F \\\\\n",
    "\\hline\n",
    "\\end{array}\n",
    "$\n"
   ]
  },
  {
   "cell_type": "code",
   "id": "2e5db3c4-fddb-4e49-a21f-237257e23834",
   "metadata": {
    "ExecuteTime": {
     "end_time": "2025-03-12T15:26:35.601534Z",
     "start_time": "2025-03-12T15:26:35.598415Z"
    }
   },
   "source": [
    "import torch\n",
    "import torch.nn as nn\n",
    "import torch.optim as optim\n",
    "import numpy as np\n",
    "import matplotlib.pyplot as plt"
   ],
   "outputs": [],
   "execution_count": 30
  },
  {
   "cell_type": "markdown",
   "id": "b80514e6-f6ec-48a8-8db4-06776d3267ba",
   "metadata": {},
   "source": [
    "#### Step-1 Generate XOR data"
   ]
  },
  {
   "cell_type": "code",
   "id": "79651922",
   "metadata": {
    "ExecuteTime": {
     "end_time": "2025-03-12T15:26:35.621208Z",
     "start_time": "2025-03-12T15:26:35.617851Z"
    }
   },
   "source": [
    "def generate_xor_data():\n",
    "    # ====================== YOUR CODE HERE ======================\n",
    "    \"\"\"\n",
    "    Generate XOR training data\n",
    "\n",
    "    Returns:\n",
    "    X -- input data, shape (4, 2)\n",
    "    y -- labels, shape (4, 1)\n",
    "    \"\"\"\n",
    "    # XOR input and output values\n",
    "    X = torch.tensor([[0, 0], [0, 1], [1, 0], [1, 1]], dtype=torch.float32)\n",
    "    y = torch.tensor([[0], [1], [1], [0]], dtype=torch.float32)\n",
    "\n",
    "    return X, y\n",
    "    # ============================================================"
   ],
   "outputs": [],
   "execution_count": 31
  },
  {
   "cell_type": "markdown",
   "id": "1b04c1a7-f771-4be6-8c97-6841cf1eeb2f",
   "metadata": {},
   "source": [
    "#### Step-2: Implement XOR Model"
   ]
  },
  {
   "cell_type": "code",
   "id": "bee59d85-4e58-4170-bdba-609848fb69c6",
   "metadata": {
    "ExecuteTime": {
     "end_time": "2025-03-12T15:26:35.640832Z",
     "start_time": "2025-03-12T15:26:35.636558Z"
    }
   },
   "source": [
    "class XORModel(nn.Module):\n",
    "    def __init__(self):\n",
    "        super(XORModel, self).__init__()\n",
    "        # ====================== YOUR CODE HERE ======================\n",
    "        # Define the layers for XOR model\n",
    "        # XOR is not linearly separable, so we need at least one hidden layer\n",
    "        self.layer1 = nn.Linear(2, 4)  # Input layer -> Hidden layer (2 inputs, 4 hidden neurons)\n",
    "        self.layer2 = nn.Linear(4, 1)  # Hidden layer -> Output layer (1 output)\n",
    "        self.sigmoid = nn.Sigmoid()  # Activation function\n",
    "        self.relu = nn.ReLU()  # ReLU for hidden layer\n",
    "        # ============================================================\n",
    "\n",
    "    def forward(self, x):\n",
    "        # ====================== YOUR CODE HERE ======================\n",
    "        # Forward pass through the network\n",
    "        x = self.layer1(x)\n",
    "        x = self.relu(x)\n",
    "        x = self.layer2(x)\n",
    "        x = self.sigmoid(x)\n",
    "        # ============================================================\n",
    "        return x"
   ],
   "outputs": [],
   "execution_count": 32
  },
  {
   "cell_type": "markdown",
   "id": "de068082-0e2d-4507-ba64-469801571725",
   "metadata": {},
   "source": [
    "#### Step-3: Implement Training steps"
   ]
  },
  {
   "cell_type": "code",
   "id": "8e946110-20f1-4bec-86c1-1937b9916e10",
   "metadata": {
    "scrolled": true,
    "ExecuteTime": {
     "end_time": "2025-03-12T15:26:35.736230Z",
     "start_time": "2025-03-12T15:26:35.730210Z"
    }
   },
   "source": [
    "num_epochs =  5000 # Number of Epochs\n",
    "learning_rate = 0.1 # Learning rate\n",
    "\n",
    "def train_model(model, X, y, epochs=num_epochs, lr=learning_rate):\n",
    "    # ====================== YOUR CODE HERE ======================\n",
    "    \"\"\"\n",
    "    Train the XOR model\n",
    "\n",
    "    Arguments:\n",
    "    model -- the neural network model\n",
    "    X -- input data\n",
    "    y -- labels\n",
    "    epochs -- number of training epochs\n",
    "    lr -- learning rate\n",
    "\n",
    "    Returns:\n",
    "    losses -- list of losses during training\n",
    "    \"\"\"\n",
    "    # Define loss function and optimizer\n",
    "    criterion = nn.BCELoss()  # Binary Cross Entropy Loss\n",
    "    optimizer = optim.SGD(model.parameters(), lr=lr)  # Stochastic Gradient Descent\n",
    "    # ============================================================\n",
    "\n",
    "    losses = []\n",
    "    for epoch in range(epochs):\n",
    "        # ====================== YOUR CODE HERE ======================\n",
    "        # Forward pass\n",
    "        outputs = model(X)\n",
    "        loss = criterion(outputs, y)\n",
    "\n",
    "        # Backward pass and optimization\n",
    "        optimizer.zero_grad()  # Clear previous gradients\n",
    "        loss.backward()        # Compute gradients\n",
    "        optimizer.step()       # Update parameters\n",
    "\n",
    "        # Store loss\n",
    "        losses.append(loss.item())\n",
    "\n",
    "        # Print progress\n",
    "        if epoch % 500 == 0:\n",
    "            print(f'Epoch {epoch}, Loss: {loss.item():.4f}')\n",
    "        # ============================================================\n",
    "\n",
    "    return losses"
   ],
   "outputs": [],
   "execution_count": 33
  },
  {
   "cell_type": "markdown",
   "id": "1ba4e74e-730a-4e03-bc26-34202d1ee08d",
   "metadata": {},
   "source": [
    "#### Step-4: Define model to test predictions from model"
   ]
  },
  {
   "cell_type": "code",
   "id": "7c5a73f7-0c24-48b3-b142-b88c3e26c62b",
   "metadata": {
    "ExecuteTime": {
     "end_time": "2025-03-12T15:26:35.755956Z",
     "start_time": "2025-03-12T15:26:35.751492Z"
    }
   },
   "source": [
    "def test_model(model, X):\n",
    "    # ====================== YOUR CODE HERE ======================\n",
    "    \"\"\"\n",
    "    Test the XOR model\n",
    "\n",
    "    Arguments:\n",
    "    model -- the trained neural network model\n",
    "    X -- input data\n",
    "\n",
    "    Returns:\n",
    "    predictions -- model predictions rounded to 0 or 1\n",
    "    \"\"\"\n",
    "    # Set model to evaluation mode\n",
    "    model.eval()\n",
    "\n",
    "    # Forward pass\n",
    "    with torch.no_grad():  # No need to track gradients\n",
    "        outputs = model(X)\n",
    "        predictions = torch.round(outputs)  # Round to get binary predictions\n",
    "\n",
    "    return predictions\n",
    "    # ============================================================"
   ],
   "outputs": [],
   "execution_count": 34
  },
  {
   "cell_type": "code",
   "id": "5e6885e2-1510-44a2-b46e-741d6e188d22",
   "metadata": {
    "ExecuteTime": {
     "end_time": "2025-03-12T15:26:37.740094Z",
     "start_time": "2025-03-12T15:26:35.772272Z"
    }
   },
   "source": [
    "X, y = generate_xor_data()\n",
    "model = XORModel()\n",
    "losses = train_model(model, X, y)"
   ],
   "outputs": [
    {
     "name": "stdout",
     "output_type": "stream",
     "text": [
      "Epoch 0, Loss: 0.7225\n",
      "Epoch 500, Loss: 0.1959\n",
      "Epoch 1000, Loss: 0.0406\n",
      "Epoch 1500, Loss: 0.0201\n",
      "Epoch 2000, Loss: 0.0130\n",
      "Epoch 2500, Loss: 0.0095\n",
      "Epoch 3000, Loss: 0.0074\n",
      "Epoch 3500, Loss: 0.0061\n",
      "Epoch 4000, Loss: 0.0051\n",
      "Epoch 4500, Loss: 0.0044\n"
     ]
    }
   ],
   "execution_count": 35
  },
  {
   "cell_type": "code",
   "id": "64ecbfc9-b0bf-4d5e-a0db-36f2a065eaac",
   "metadata": {
    "ExecuteTime": {
     "end_time": "2025-03-12T15:26:37.914514Z",
     "start_time": "2025-03-12T15:26:37.834062Z"
    }
   },
   "source": [
    "plt.plot(losses)\n",
    "plt.xlabel('Epochs')\n",
    "plt.ylabel('Loss')\n",
    "plt.title('Training Loss Curve')\n",
    "plt.show()"
   ],
   "outputs": [
    {
     "data": {
      "text/plain": [
       "<Figure size 640x480 with 1 Axes>"
      ],
      "image/png": "[encoded data removed]"
     },
     "metadata": {},
     "output_type": "display_data"
    }
   ],
   "execution_count": 36
  },
  {
   "cell_type": "code",
   "id": "1713ea3e-699c-4045-9ab3-eb5fde2a34a0",
   "metadata": {
    "ExecuteTime": {
     "end_time": "2025-03-12T15:26:37.937568Z",
     "start_time": "2025-03-12T15:26:37.929413Z"
    }
   },
   "source": [
    "predictions = test_model(model, X)\n",
    "print(\"Predictions:\\n\", predictions.numpy())"
   ],
   "outputs": [
    {
     "name": "stdout",
     "output_type": "stream",
     "text": [
      "Predictions:\n",
      " [[0.]\n",
      " [1.]\n",
      " [1.]\n",
      " [0.]]\n"
     ]
    }
   ],
   "execution_count": 37
  },
  {
   "cell_type": "markdown",
   "id": "fc2f80ed-d515-4077-b67a-6f44856872fb",
   "metadata": {},
   "source": [
    "## Task-3 [15pts]"
   ]
  },
  {
   "cell_type": "markdown",
   "id": "0f4c151c-246d-4e0e-9a59-317f1c95d37c",
   "metadata": {},
   "source": [
    "### Weierstrass function\n",
    "\n",
    "$f(x) = \\sum_{n=0}^{\\infty} a^n \\cos(b^n \\pi x)$ \n",
    "- $0<a<1$ \n",
    "- $b$ is a positive odd integer. \n",
    "- $ab>1+\\frac{3}{2}.\\pi$ \n"
   ]
  },
  {
   "cell_type": "markdown",
   "id": "5769f50d-7888-4d47-9e25-a55f2ae54b28",
   "metadata": {},
   "source": [
    "#### Step-1"
   ]
  },
  {
   "cell_type": "code",
   "id": "75223042-5d73-4b1a-864f-f4730236253b",
   "metadata": {
    "ExecuteTime": {
     "end_time": "2025-03-12T15:26:37.956853Z",
     "start_time": "2025-03-12T15:26:37.952922Z"
    }
   },
   "source": [
    "a = 0.1 # value of a\n",
    "def weierstrass(x, a=a, b=7, n=20):\n",
    "    # ====================== YOUR CODE HERE ======================\n",
    "    \"\"\"\n",
    "    Compute the Weierstrass function\n",
    "\n",
    "    Arguments:\n",
    "    x -- input value or array\n",
    "    a -- parameter (0 < a < 1)\n",
    "    b -- parameter (positive odd integer)\n",
    "    n -- number of terms to sum\n",
    "\n",
    "    Returns:\n",
    "    result -- computed value of the Weierstrass function\n",
    "    \"\"\"\n",
    "    result = 0\n",
    "    for i in range(n):\n",
    "        result += a**i * np.cos(b**i * np.pi * x)\n",
    "    return result\n",
    "    # ============================================================"
   ],
   "outputs": [],
   "execution_count": 38
  },
  {
   "cell_type": "markdown",
   "id": "b32808a6-65f6-4bff-a741-a75941ebe525",
   "metadata": {},
   "source": [
    "#### Step-2"
   ]
  },
  {
   "cell_type": "code",
   "id": "1866d85c-a8df-426e-8cc1-b74dad80b457",
   "metadata": {
    "ExecuteTime": {
     "end_time": "2025-03-12T15:26:38.009447Z",
     "start_time": "2025-03-12T15:26:37.977110Z"
    }
   },
   "source": [
    "\n",
    "# ====================== YOUR CODE HERE ======================\n",
    "# Generate data for Weierstrass function\n",
    "X = np.linspace(-2, 2, 1000).astype(np.float32)\n",
    "y = np.array([weierstrass(x) for x in X]).astype(np.float32)\n",
    "\n",
    "X = X.reshape(-1, 1)\n",
    "y = y.reshape(-1, 1)\n",
    "# ============================================================\n",
    "\n",
    "X_tensor = torch.tensor(X)\n",
    "y_tensor = torch.tensor(y)\n",
    "\n"
   ],
   "outputs": [],
   "execution_count": 39
  },
  {
   "cell_type": "markdown",
   "id": "f4a5c699-0c01-40f9-b2d7-87340df290b9",
   "metadata": {},
   "source": [
    "#### Step-3"
   ]
  },
  {
   "cell_type": "code",
   "id": "4a746627-ad08-4521-a953-a8039677ec7b",
   "metadata": {
    "ExecuteTime": {
     "end_time": "2025-03-12T15:26:38.049748Z",
     "start_time": "2025-03-12T15:26:38.044859Z"
    }
   },
   "source": [
    "class FFN(nn.Module):\n",
    "    def __init__(self):\n",
    "        super(FFN, self).__init__()\n",
    "        # ====================== YOUR CODE HERE ======================\n",
    "        # Feed-forward neural network for approximating the Weierstrass function\n",
    "        self.layer1 = nn.Linear(1, 64)   # Input layer -> Hidden layer 1\n",
    "        self.layer2 = nn.Linear(64, 128) # Hidden layer 1 -> Hidden layer 2\n",
    "        self.layer3 = nn.Linear(128, 64) # Hidden layer 2 -> Hidden layer 3\n",
    "        self.layer4 = nn.Linear(64, 1)   # Hidden layer 3 -> Output layer\n",
    "\n",
    "        # Activation functions\n",
    "        self.relu = nn.ReLU()\n",
    "        # ============================================================\n",
    "\n",
    "    def forward(self, x):\n",
    "        # ====================== YOUR CODE HERE ======================\n",
    "        # Forward pass through the network\n",
    "        x = self.layer1(x)\n",
    "        x = self.relu(x)\n",
    "        x = self.layer2(x)\n",
    "        x = self.relu(x)\n",
    "        x = self.layer3(x)\n",
    "        x = self.relu(x)\n",
    "        x = self.layer4(x)\n",
    "        return x\n",
    "        # ============================================================\n",
    "\n"
   ],
   "outputs": [],
   "execution_count": 40
  },
  {
   "cell_type": "markdown",
   "id": "38b107cb-0798-4f8b-91b6-37527ab079e9",
   "metadata": {},
   "source": [
    "#### Step-4"
   ]
  },
  {
   "cell_type": "code",
   "id": "cc10e533-c152-40e0-9470-3f29e5f8a888",
   "metadata": {
    "ExecuteTime": {
     "end_time": "2025-03-12T15:26:38.088340Z",
     "start_time": "2025-03-12T15:26:38.084134Z"
    }
   },
   "source": [
    "def train_ffn(model, X, y, epochs=5000, lr=0.001):\n",
    "    # ====================== YOUR CODE HERE ======================\n",
    "    \"\"\"\n",
    "    Train the feedforward neural network for Weierstrass function approximation\n",
    "\n",
    "    Arguments:\n",
    "    model -- the neural network model\n",
    "    X -- input data\n",
    "    y -- target values\n",
    "    epochs -- number of training epochs\n",
    "    lr -- learning rate\n",
    "\n",
    "    Returns:\n",
    "    losses -- list of losses during training\n",
    "    \"\"\"\n",
    "    # Define loss function and optimizer\n",
    "    criterion = nn.MSELoss()  # Mean Squared Error Loss\n",
    "    optimizer = optim.Adam(model.parameters(), lr=lr)  # Adam optimizer\n",
    "\n",
    "    losses = []\n",
    "    for epoch in range(epochs):\n",
    "        # Forward pass\n",
    "        outputs = model(X)\n",
    "        loss = criterion(outputs, y)\n",
    "\n",
    "        # Backward pass and optimization\n",
    "        optimizer.zero_grad()\n",
    "        loss.backward()\n",
    "        optimizer.step()\n",
    "\n",
    "        # Store loss\n",
    "        losses.append(loss.item())\n",
    "\n",
    "        # Print progress\n",
    "        if epoch % 500 == 0:\n",
    "            print(f'Epoch {epoch}, Loss: {loss.item():.6f}')\n",
    "    # ============================================================\n",
    "    return losses"
   ],
   "outputs": [],
   "execution_count": 41
  },
  {
   "cell_type": "code",
   "id": "6fbbac58-c937-423d-a224-323315af7fc4",
   "metadata": {
    "ExecuteTime": {
     "end_time": "2025-03-12T15:26:53.980889Z",
     "start_time": "2025-03-12T15:26:38.122858Z"
    }
   },
   "source": [
    "model = FFN()\n",
    "losses = train_ffn(model, X_tensor, y_tensor)"
   ],
   "outputs": [
    {
     "name": "stdout",
     "output_type": "stream",
     "text": [
      "Epoch 0, Loss: 0.505321\n",
      "Epoch 500, Loss: 0.003574\n",
      "Epoch 1000, Loss: 0.002682\n",
      "Epoch 1500, Loss: 0.003525\n",
      "Epoch 2000, Loss: 0.002188\n",
      "Epoch 2500, Loss: 0.002697\n",
      "Epoch 3000, Loss: 0.002241\n",
      "Epoch 3500, Loss: 0.002040\n",
      "Epoch 4000, Loss: 0.001618\n",
      "Epoch 4500, Loss: 0.001527\n"
     ]
    }
   ],
   "execution_count": 42
  },
  {
   "cell_type": "code",
   "id": "f45ab5aa-8f7d-413c-8000-0866039cdbe9",
   "metadata": {
    "ExecuteTime": {
     "end_time": "2025-03-12T15:26:54.101543Z",
     "start_time": "2025-03-12T15:26:54.021338Z"
    }
   },
   "source": [
    "plt.plot(losses)\n",
    "plt.xlabel('Epochs')\n",
    "plt.ylabel('Loss')\n",
    "plt.title('Training Loss Curve')\n",
    "plt.show()"
   ],
   "outputs": [
    {
     "data": {
      "text/plain": [
       "<Figure size 640x480 with 1 Axes>"
      ],
      "image/png": "[encoded data removed]"
     },
     "metadata": {},
     "output_type": "display_data"
    }
   ],
   "execution_count": 43
  },
  {
   "cell_type": "markdown",
   "id": "1df4ad7e-d04c-4512-ad39-6db1bbd4f3bd",
   "metadata": {},
   "source": [
    "#### Step-5"
   ]
  },
  {
   "cell_type": "code",
   "id": "9505c831-10a0-41c6-be72-61f91f15fb3e",
   "metadata": {
    "ExecuteTime": {
     "end_time": "2025-03-12T15:26:54.229329Z",
     "start_time": "2025-03-12T15:26:54.135868Z"
    }
   },
   "source": [
    "\n",
    "with torch.no_grad():\n",
    "    # ====================== YOUR CODE HERE ======================\n",
    "    # Generate predictions from the trained model\n",
    "        y_pred = model(X_tensor).numpy()\n",
    "    # ============================================================\n",
    "plt.plot(X, y, label='True Weierstrass Function', linestyle='dashed', color='blue')\n",
    "plt.plot(X, y_pred, label='FFN Approximation', color='red')\n",
    "plt.legend()\n",
    "plt.title('FFN Approximation of Weierstrass Function')\n",
    "plt.show()"
   ],
   "outputs": [
    {
     "data": {
      "text/plain": [
       "<Figure size 640x480 with 1 Axes>"
      ],
      "image/png": "[encoded data removed]"
     },
     "metadata": {},
     "output_type": "display_data"
    }
   ],
   "execution_count": 44
  },
  {
   "cell_type": "markdown",
   "id": "c9283d86-77ab-473c-8751-7b77b50266b6",
   "metadata": {},
   "source": [
    "## Task-4 [50pts]"
   ]
  },
  {
   "cell_type": "code",
   "id": "619fd718-75bd-4c80-95eb-c111d2286790",
   "metadata": {
    "ExecuteTime": {
     "end_time": "2025-03-12T15:26:54.456575Z",
     "start_time": "2025-03-12T15:26:54.264177Z"
    }
   },
   "source": [
    "import torch\n",
    "import torch.nn as nn\n",
    "import torch.optim as optim\n",
    "import torchvision\n",
    "import torchvision.transforms as transforms\n",
    "import matplotlib.pyplot as plt\n",
    "import numpy as np"
   ],
   "outputs": [],
   "execution_count": 45
  },
  {
   "cell_type": "markdown",
   "id": "a4efe909-6e0f-48d7-8986-8f108dfa53bd",
   "metadata": {},
   "source": [
    "The goal of this task is to understand the impact of various hyperparameters on the performance of a deep learning model trained on the IRiS dataset. You will conduct experiments by modifying activation functions, learning rate, regularization techniques, and network depth. You will then analyze the results using plots."
   ]
  },
  {
   "cell_type": "markdown",
   "id": "8b6534ad-cb36-4dba-8d39-eec1c8cb0cee",
   "metadata": {},
   "source": [
    "**4.a)** Change the Activation Functions and Plot Accuracy Curves\n",
    "- ReLU\n",
    "- Sigmoid\n",
    "- Tanh\n",
    "- Leaky ReLU\n",
    "- Swish\n",
    "- ELU\n",
    "\n",
    "**4.b)** Change the Learning Rate and Plot Accuracy Curves\n",
    "\n",
    "**4.c)** Change Regularization and Compare Results \n",
    "- No regularization (baseline model)\n",
    "- L1 Regularization\n",
    "- L2 Regularization (Weight Decay)\n",
    "- Dropout (50% probability for some layers)\n",
    "\n",
    "**4.d)** Add Layers and Observe Accuracy Changes.\n",
    "- Baseline model: 3 hidden layers (256 → 128 → 64)\n",
    "- Deeper model: 5 hidden layers (512 → 256 → 128 → 64 → 32)\n",
    "- Shallow model: 2 hidden layers (128 → 64)"
   ]
  },
  {
   "cell_type": "code",
   "id": "bf9016b4-6cc0-4cb3-b34e-476ddaf56040",
   "metadata": {
    "ExecuteTime": {
     "end_time": "2025-03-12T15:26:54.825439Z",
     "start_time": "2025-03-12T15:26:54.490955Z"
    }
   },
   "source": [
    "from sklearn import datasets\n",
    "import pandas as pd\n",
    "\n",
    "iris = datasets.load_iris()"
   ],
   "outputs": [],
   "execution_count": 46
  },
  {
   "cell_type": "code",
   "id": "f3e8b7fe-369d-4b01-9c56-16df98906468",
   "metadata": {
    "ExecuteTime": {
     "end_time": "2025-03-12T15:26:54.927100Z",
     "start_time": "2025-03-12T15:26:54.922100Z"
    }
   },
   "source": [
    "activation_functions = {\n",
    "    \"ReLU\": nn.ReLU(),\n",
    "    \"Sigmoid\": nn.Sigmoid(),\n",
    "    \"Tanh\": nn.Tanh(),\n",
    "    \"LeakyReLU\": nn.LeakyReLU(),\n",
    "    \"ELU\": nn.ELU()\n",
    "}"
   ],
   "outputs": [],
   "execution_count": 47
  },
  {
   "cell_type": "code",
   "id": "7732dc38-18e6-417a-98ab-49a22b367377",
   "metadata": {
    "ExecuteTime": {
     "end_time": "2025-03-12T15:26:54.979628Z",
     "start_time": "2025-03-12T15:26:54.942611Z"
    }
   },
   "source": [
    "# Start Here\n",
    "# Convert Iris dataset to PyTorch tensors\n",
    "X_iris = torch.tensor(iris.data, dtype=torch.float32)\n",
    "y_iris = torch.tensor(iris.target, dtype=torch.long)\n",
    "\n",
    "# Normalize features\n",
    "X_mean = X_iris.mean(0, keepdim=True)\n",
    "X_std = X_iris.std(0, keepdim=True)\n",
    "X_iris_normalized = (X_iris - X_mean) / X_std\n",
    "\n",
    "# Split data into train and test sets\n",
    "indices = torch.randperm(len(X_iris))\n",
    "train_size = int(0.8 * len(X_iris))\n",
    "train_indices = indices[:train_size]\n",
    "test_indices = indices[train_size:]\n",
    "\n",
    "X_train = X_iris_normalized[train_indices]\n",
    "y_train = y_iris[train_indices]\n",
    "X_test = X_iris_normalized[test_indices]\n",
    "y_test = y_iris[test_indices]\n",
    "\n",
    "# 4.a) Activation Functions Experiment\n",
    "class IrisModelActivation(nn.Module):\n",
    "    def __init__(self, activation_fn):\n",
    "        super(IrisModelActivation, self).__init__()\n",
    "        self.fc1 = nn.Linear(4, 256)  # 4 features in Iris dataset\n",
    "        self.fc2 = nn.Linear(256, 128)\n",
    "        self.fc3 = nn.Linear(128, 64)\n",
    "        self.fc4 = nn.Linear(64, 3)   # 3 classes in Iris dataset\n",
    "\n",
    "        self.activation = activation_fn\n",
    "\n",
    "    def forward(self, x):\n",
    "        x = self.activation(self.fc1(x))\n",
    "        x = self.activation(self.fc2(x))\n",
    "        x = self.activation(self.fc3(x))\n",
    "        return self.fc4(x)  # No activation on final layer (handled by loss function)\n",
    "\n",
    "def train_iris_model(model, X_train, y_train, X_test, y_test, epochs=300, lr=0.01, weight_decay=0):\n",
    "    criterion = nn.CrossEntropyLoss()\n",
    "    optimizer = optim.Adam(model.parameters(), lr=lr, weight_decay=weight_decay)\n",
    "\n",
    "    train_losses = []\n",
    "    test_accuracies = []\n",
    "\n",
    "    for epoch in range(epochs):\n",
    "        # Training\n",
    "        model.train()\n",
    "        optimizer.zero_grad()\n",
    "        outputs = model(X_train)\n",
    "        loss = criterion(outputs, y_train)\n",
    "        loss.backward()\n",
    "        optimizer.step()\n",
    "\n",
    "        train_losses.append(loss.item())\n",
    "\n",
    "        # Evaluation\n",
    "        model.eval()\n",
    "        with torch.no_grad():\n",
    "            test_outputs = model(X_test)\n",
    "            _, predicted = torch.max(test_outputs, 1)\n",
    "            accuracy = (predicted == y_test).float().mean().item()\n",
    "            test_accuracies.append(accuracy)\n",
    "\n",
    "        if epoch % 50 == 0:\n",
    "            print(f'Epoch {epoch}, Loss: {loss.item():.4f}, Test Accuracy: {accuracy:.4f}')\n",
    "\n",
    "    return train_losses, test_accuracies\n",
    "\n",
    "# Function to run activation functions experiment\n",
    "def run_activation_experiment():\n",
    "    activation_results = {}\n",
    "\n",
    "    for name, activation in activation_functions.items():\n",
    "        print(f\"\\nTraining with {name} activation:\")\n",
    "        model = IrisModelActivation(activation)\n",
    "        train_losses, test_accuracies = train_iris_model(model, X_train, y_train, X_test, y_test)\n",
    "        activation_results[name] = {\n",
    "            'losses': train_losses,\n",
    "            'accuracies': test_accuracies\n",
    "        }\n",
    "\n",
    "    # Plot results\n",
    "    plt.figure(figsize=(12, 5))\n",
    "\n",
    "    plt.subplot(1, 2, 1)\n",
    "    for name, result in activation_results.items():\n",
    "        plt.plot(result['losses'], label=name)\n",
    "    plt.title('Training Loss by Activation Function')\n",
    "    plt.xlabel('Epochs')\n",
    "    plt.ylabel('Loss')\n",
    "    plt.legend()\n",
    "\n",
    "    plt.subplot(1, 2, 2)\n",
    "    for name, result in activation_results.items():\n",
    "        plt.plot(result['accuracies'], label=name)\n",
    "    plt.title('Test Accuracy by Activation Function')\n",
    "    plt.xlabel('Epochs')\n",
    "    plt.ylabel('Accuracy')\n",
    "    plt.legend()\n",
    "\n",
    "    plt.tight_layout()\n",
    "    plt.show()\n",
    "\n",
    "    return activation_results\n",
    "\n",
    "# 4.b) Learning Rate Experiment\n",
    "def run_learning_rate_experiment():\n",
    "    learning_rates = [0.1, 0.01, 0.001, 0.0001]\n",
    "    lr_results = {}\n",
    "\n",
    "    for lr in learning_rates:\n",
    "        print(f\"\\nTraining with learning rate {lr}:\")\n",
    "        model = IrisModelActivation(nn.ReLU())  # Using ReLU as the baseline activation\n",
    "        train_losses, test_accuracies = train_iris_model(model, X_train, y_train, X_test, y_test, lr=lr)\n",
    "        lr_results[f\"LR={lr}\"] = {\n",
    "            'losses': train_losses,\n",
    "            'accuracies': test_accuracies\n",
    "        }\n",
    "\n",
    "    # Plot results\n",
    "    plt.figure(figsize=(12, 5))\n",
    "\n",
    "    plt.subplot(1, 2, 1)\n",
    "    for name, result in lr_results.items():\n",
    "        plt.plot(result['losses'], label=name)\n",
    "    plt.title('Training Loss by Learning Rate')\n",
    "    plt.xlabel('Epochs')\n",
    "    plt.ylabel('Loss')\n",
    "    plt.legend()\n",
    "\n",
    "    plt.subplot(1, 2, 2)\n",
    "    for name, result in lr_results.items():\n",
    "        plt.plot(result['accuracies'], label=name)\n",
    "    plt.title('Test Accuracy by Learning Rate')\n",
    "    plt.xlabel('Epochs')\n",
    "    plt.ylabel('Accuracy')\n",
    "    plt.legend()\n",
    "\n",
    "    plt.tight_layout()\n",
    "    plt.show()\n",
    "\n",
    "    return lr_results\n",
    "\n",
    "# 4.c) Regularization Experiment\n",
    "class IrisModelDropout(nn.Module):\n",
    "    def __init__(self, dropout_rate=0.5):\n",
    "        super(IrisModelDropout, self).__init__()\n",
    "        self.fc1 = nn.Linear(4, 256)\n",
    "        self.fc2 = nn.Linear(256, 128)\n",
    "        self.fc3 = nn.Linear(128, 64)\n",
    "        self.fc4 = nn.Linear(64, 3)\n",
    "\n",
    "        self.dropout = nn.Dropout(dropout_rate)\n",
    "        self.relu = nn.ReLU()\n",
    "\n",
    "    def forward(self, x):\n",
    "        x = self.dropout(self.relu(self.fc1(x)))\n",
    "        x = self.dropout(self.relu(self.fc2(x)))\n",
    "        x = self.dropout(self.relu(self.fc3(x)))\n",
    "        return self.fc4(x)\n",
    "\n",
    "def run_regularization_experiment():\n",
    "    reg_results = {}\n",
    "\n",
    "    # No regularization (baseline)\n",
    "    print(\"\\nTraining with no regularization:\")\n",
    "    model_baseline = IrisModelActivation(nn.ReLU())\n",
    "    train_losses, test_accuracies = train_iris_model(model_baseline, X_train, y_train, X_test, y_test)\n",
    "    reg_results[\"No Regularization\"] = {\n",
    "        'losses': train_losses,\n",
    "        'accuracies': test_accuracies\n",
    "    }\n",
    "\n",
    "    # L2 Regularization (Weight Decay)\n",
    "    print(\"\\nTraining with L2 regularization:\")\n",
    "    model_l2 = IrisModelActivation(nn.ReLU())\n",
    "    train_losses, test_accuracies = train_iris_model(model_l2, X_train, y_train, X_test, y_test, weight_decay=0.01)\n",
    "    reg_results[\"L2 Regularization\"] = {\n",
    "        'losses': train_losses,\n",
    "        'accuracies': test_accuracies\n",
    "    }\n",
    "\n",
    "    # Dropout\n",
    "    print(\"\\nTraining with Dropout:\")\n",
    "    model_dropout = IrisModelDropout()\n",
    "    train_losses, test_accuracies = train_iris_model(model_dropout, X_train, y_train, X_test, y_test)\n",
    "    reg_results[\"Dropout\"] = {\n",
    "        'losses': train_losses,\n",
    "        'accuracies': test_accuracies\n",
    "    }\n",
    "\n",
    "    # Plot results\n",
    "    plt.figure(figsize=(12, 5))\n",
    "\n",
    "    plt.subplot(1, 2, 1)\n",
    "    for name, result in reg_results.items():\n",
    "        plt.plot(result['losses'], label=name)\n",
    "    plt.title('Training Loss by Regularization Method')\n",
    "    plt.xlabel('Epochs')\n",
    "    plt.ylabel('Loss')\n",
    "    plt.legend()\n",
    "\n",
    "    plt.subplot(1, 2, 2)\n",
    "    for name, result in reg_results.items():\n",
    "        plt.plot(result['accuracies'], label=name)\n",
    "    plt.title('Test Accuracy by Regularization Method')\n",
    "    plt.xlabel('Epochs')\n",
    "    plt.ylabel('Accuracy')\n",
    "    plt.legend()\n",
    "\n",
    "    plt.tight_layout()\n",
    "    plt.show()\n",
    "\n",
    "    return reg_results\n",
    "\n",
    "# 4.d) Network Depth Experiment\n",
    "class ShallowModel(nn.Module):\n",
    "    def __init__(self):\n",
    "        super(ShallowModel, self).__init__()\n",
    "        self.fc1 = nn.Linear(4, 128)\n",
    "        self.fc2 = nn.Linear(128, 64)\n",
    "        self.fc3 = nn.Linear(64, 3)\n",
    "        self.relu = nn.ReLU()\n",
    "\n",
    "    def forward(self, x):\n",
    "        x = self.relu(self.fc1(x))\n",
    "        x = self.relu(self.fc2(x))\n",
    "        return self.fc3(x)\n",
    "\n",
    "class BaselineModel(nn.Module):\n",
    "    def __init__(self):\n",
    "        super(BaselineModel, self).__init__()\n",
    "        self.fc1 = nn.Linear(4, 256)\n",
    "        self.fc2 = nn.Linear(256, 128)\n",
    "        self.fc3 = nn.Linear(128, 64)\n",
    "        self.fc4 = nn.Linear(64, 3)\n",
    "        self.relu = nn.ReLU()\n",
    "\n",
    "    def forward(self, x):\n",
    "        x = self.relu(self.fc1(x))\n",
    "        x = self.relu(self.fc2(x))\n",
    "        x = self.relu(self.fc3(x))\n",
    "        return self.fc4(x)\n",
    "\n",
    "class DeepModel(nn.Module):\n",
    "    def __init__(self):\n",
    "        super(DeepModel, self).__init__()\n",
    "        self.fc1 = nn.Linear(4, 512)\n",
    "        self.fc2 = nn.Linear(512, 256)\n",
    "        self.fc3 = nn.Linear(256, 128)\n",
    "        self.fc4 = nn.Linear(128, 64)\n",
    "        self.fc5 = nn.Linear(64, 32)\n",
    "        self.fc6 = nn.Linear(32, 3)\n",
    "        self.relu = nn.ReLU()\n",
    "\n",
    "    def forward(self, x):\n",
    "        x = self.relu(self.fc1(x))\n",
    "        x = self.relu(self.fc2(x))\n",
    "        x = self.relu(self.fc3(x))\n",
    "        x = self.relu(self.fc4(x))\n",
    "        x = self.relu(self.fc5(x))\n",
    "        return self.fc6(x)\n",
    "\n",
    "def run_depth_experiment():\n",
    "    depth_results = {}\n",
    "\n",
    "    # Shallow model\n",
    "    print(\"\\nTraining shallow model:\")\n",
    "    model_shallow = ShallowModel()\n",
    "    train_losses, test_accuracies = train_iris_model(model_shallow, X_train, y_train, X_test, y_test)\n",
    "    depth_results[\"Shallow (2 layers)\"] = {\n",
    "        'losses': train_losses,\n",
    "        'accuracies': test_accuracies\n",
    "    }\n",
    "\n",
    "    # Baseline model\n",
    "    print(\"\\nTraining baseline model:\")\n",
    "    model_baseline = BaselineModel()\n",
    "    train_losses, test_accuracies = train_iris_model(model_baseline, X_train, y_train, X_test, y_test)\n",
    "    depth_results[\"Baseline (3 layers)\"] = {\n",
    "        'losses': train_losses,\n",
    "        'accuracies': test_accuracies\n",
    "    }\n",
    "\n",
    "    # Deep model\n",
    "    print(\"\\nTraining deep model:\")\n",
    "    model_deep = DeepModel()\n",
    "    train_losses, test_accuracies = train_iris_model(model_deep, X_train, y_train, X_test, y_test)\n",
    "    depth_results[\"Deep (5 layers)\"] = {\n",
    "        'losses': train_losses,\n",
    "        'accuracies': test_accuracies\n",
    "    }\n",
    "\n",
    "    # Plot results\n",
    "    plt.figure(figsize=(12, 5))\n",
    "\n",
    "    plt.subplot(1, 2, 1)\n",
    "    for name, result in depth_results.items():\n",
    "        plt.plot(result['losses'], label=name)\n",
    "    plt.title('Training Loss by Network Depth')\n",
    "    plt.xlabel('Epochs')\n",
    "    plt.ylabel('Loss')\n",
    "    plt.legend()\n",
    "\n",
    "    plt.subplot(1, 2, 2)\n",
    "    for name, result in depth_results.items():\n",
    "        plt.plot(result['accuracies'], label=name)\n",
    "    plt.title('Test Accuracy by Network Depth')\n",
    "    plt.xlabel('Epochs')\n",
    "    plt.ylabel('Accuracy')\n",
    "    plt.legend()\n",
    "\n",
    "    plt.tight_layout()\n",
    "    plt.show()\n",
    "\n",
    "    return depth_results\n",
    "\n",
    "# Main execution for Task 4\n",
    "def run_all_experiments():\n",
    "    print(\"Starting activation functions experiment...\")\n",
    "    activation_results = run_activation_experiment()\n",
    "\n",
    "    print(\"\\nStarting learning rate experiment...\")\n",
    "    lr_results = run_learning_rate_experiment()\n",
    "\n",
    "    print(\"\\nStarting regularization experiment...\")\n",
    "    reg_results = run_regularization_experiment()\n",
    "\n",
    "    print(\"\\nStarting network depth experiment...\")\n",
    "    depth_results = run_depth_experiment()\n",
    "\n",
    "    return {\n",
    "        'activation': activation_results,\n",
    "        'learning_rate': lr_results,\n",
    "        'regularization': reg_results,\n",
    "        'depth': depth_results\n",
    "    }\n"
   ],
   "outputs": [],
   "execution_count": 48
  },
  {
   "cell_type": "markdown",
   "id": "bb88a057-ab5e-401e-a27b-5e4ecd0c76b5",
   "metadata": {},
   "source": [
    "### Academic Integrity\n",
    "\n",
    "Academic integrity is critical to the learning process. It is your responsibility as a student to complete your work in an honest fashion, upholding the expectations your individual instructors have for you in this regard. The ultimate goal is to ensure that you learn the content in your courses in accordance with UB’s academic integrity principles regardless of whether instruction is in-person or remote. Thank you for upholding your own personal integrity and ensuring UB’s tradition of academic excellence. For further details, please visit https://www.buffalo.edu/academic-integrity.html."
   ]
  }
 ],
 "metadata": {
  "kernelspec": {
   "display_name": "Python 3 (ipykernel)",
   "language": "python",
   "name": "python3"
  },
  "language_info": {
   "codemirror_mode": {
    "name": "ipython",
    "version": 3
   },
   "file_extension": ".py",
   "mimetype": "text/x-python",
   "name": "python",
   "nbconvert_exporter": "python",
   "pygments_lexer": "ipython3",
   "version": "3.12.7"
  }
 },
 "nbformat": 4,
 "nbformat_minor": 5
}
