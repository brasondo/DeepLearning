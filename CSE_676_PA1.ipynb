{
 "cells": [
  {
   "cell_type": "markdown",
   "id": "80eaff64",
   "metadata": {},
   "source": [
    "# CSE-676 Programming Assignment-1 [100pts]"
   ]
  },
  {
   "cell_type": "markdown",
   "id": "8b7282cf-e3ef-491d-84f7-88275c145f10",
   "metadata": {},
   "source": [
    "## Task-1 [20pts]"
   ]
  },
  {
   "cell_type": "markdown",
   "id": "2ef1de14-836c-4ffc-8413-cb2f7c3b199a",
   "metadata": {},
   "source": [
    "### Modular Implementation of a Neural Network for Binary Classification\n",
    "Implement a modular Two Layer Neural Network to classify datapoints from the given dataset.\n",
    "\n",
    "#### Dataset Source:\n",
    "https://scikit-learn.org/0.16/modules/generated/sklearn.datasets.make_moons.html\n",
    "\n",
    "#### References:\n",
    "https://cs231n.github.io/optimization-2/\n"
   ]
  },
  {
   "cell_type": "code",
   "execution_count": null,
   "id": "6a6cc8b4-958d-4ce9-a206-d82cf104e85b",
   "metadata": {},
   "outputs": [],
   "source": [
    "import numpy as np\n",
    "import matplotlib.pyplot as plt\n",
    "from sklearn.datasets import make_moons\n",
    "from sklearn.model_selection import train_test_split"
   ]
  },
  {
   "cell_type": "code",
   "execution_count": null,
   "id": "3b9ba51c-05c6-4b96-bb80-196474356a2e",
   "metadata": {},
   "outputs": [],
   "source": [
    "X, y = make_moons(n_samples=500, noise=0.2, random_state=42)\n",
    "y = y.reshape(-1, 1)\n",
    "\n",
    "X_train, X_test, y_train, y_test = train_test_split(X, y, test_size=0.2, random_state=42)"
   ]
  },
  {
   "cell_type": "markdown",
   "id": "070482e2-f74e-4727-97b0-c156443a3f9a",
   "metadata": {},
   "source": [
    "#### Step-1: Initialize Parameters such as Weights and Biases"
   ]
  },
  {
   "cell_type": "code",
   "execution_count": null,
   "id": "3e5ded9d-8f99-4921-9bd7-e051e2231574",
   "metadata": {},
   "outputs": [],
   "source": [
    "def initialize_parameters(n_x, n_h, n_y):\n",
    "    # ====================== YOUR CODE HERE ======================\n",
    "\n",
    "    # ============================================================"
   ]
  },
  {
   "cell_type": "markdown",
   "id": "b59d43b2-864e-4b49-bc46-63568d0b86ea",
   "metadata": {},
   "source": [
    "#### Step-2: Define Sigmoid, ReLU & ReLU Functions"
   ]
  },
  {
   "cell_type": "code",
   "execution_count": null,
   "id": "c1d03d78-8040-424a-89b7-a166e52021e4",
   "metadata": {},
   "outputs": [],
   "source": [
    "def sigmoid(Z):\n",
    "    # ====================== YOUR CODE HERE ======================\n",
    "\n",
    "    # ============================================================\n",
    "\n",
    "def relu(Z):\n",
    "    # ====================== YOUR CODE HERE ======================\n",
    "\n",
    "    # ============================================================\n",
    "    \n",
    "def relu_derivative(Z):\n",
    "    # ====================== YOUR CODE HERE ======================\n",
    "\n",
    "    # ============================================================"
   ]
  },
  {
   "cell_type": "markdown",
   "id": "8055482c-9add-4603-8355-8adeb66ef3e7",
   "metadata": {},
   "source": [
    "#### Forward Propagation"
   ]
  },
  {
   "cell_type": "code",
   "execution_count": null,
   "id": "e88f6d6d-f1b8-49cc-9ef2-9a323c139d7e",
   "metadata": {},
   "outputs": [],
   "source": [
    "def forward_propagation(X, params):\n",
    "    # ====================== YOUR CODE HERE ======================\n",
    "\n",
    "    # ============================================================\n",
    "    cache = {\"Z1\": Z1, \"A1\": A1, \"Z2\": Z2, \"A2\": A2}\n",
    "    return A2, cache\n",
    "    "
   ]
  },
  {
   "cell_type": "markdown",
   "id": "1da38a59-3f12-43e4-b5c8-4c7ff6080846",
   "metadata": {},
   "source": [
    "#### Step-3: Define Loss Function"
   ]
  },
  {
   "cell_type": "code",
   "execution_count": null,
   "id": "f365b798-9247-4094-b968-1a80cc0b887a",
   "metadata": {},
   "outputs": [],
   "source": [
    "def compute_loss(A2, Y):\n",
    "    # ====================== YOUR CODE HERE ======================\n",
    "\n",
    "    # ============================================================\n",
    "    return np.squeeze(loss)\n"
   ]
  },
  {
   "cell_type": "markdown",
   "id": "40665ac5-184a-4334-ac68-b5e77bfde757",
   "metadata": {},
   "source": [
    "#### Step-4: Compute Gradients at each layer"
   ]
  },
  {
   "cell_type": "code",
   "execution_count": null,
   "id": "7661a861-9dfa-4260-ac99-549ed8c19421",
   "metadata": {},
   "outputs": [],
   "source": [
    "def backward_propagation(X, Y, params, cache):\n",
    "    # ====================== YOUR CODE HERE ======================\n",
    "\n",
    "    # ============================================================\n",
    "    grads = {\"dW1\": dW1, \"db1\": db1, \"dW2\": dW2, \"db2\": db2}\n",
    "    return grads"
   ]
  },
  {
   "cell_type": "markdown",
   "id": "ffb79a6d-c2d3-41af-942d-758e140c913d",
   "metadata": {},
   "source": [
    "#### Step-5: Define Weight Update step"
   ]
  },
  {
   "cell_type": "code",
   "execution_count": null,
   "id": "2635abce-6586-4fdc-86c1-278147aec4f1",
   "metadata": {},
   "outputs": [],
   "source": [
    "def update_parameters(params, grads, learning_rate):\n",
    "    # ====================== YOUR CODE HERE ======================\n",
    "\n",
    "    # ============================================================\n",
    "    return params"
   ]
  },
  {
   "cell_type": "code",
   "execution_count": null,
   "id": "800da1ef-078a-4771-bd64-4fb768b7690e",
   "metadata": {},
   "outputs": [],
   "source": [
    "lr = 0.1\n",
    "num_epochs = 10000\n",
    "\n",
    "def train(X, Y, n_h, learning_rate=lr, num_iterations=num_epochs):\n",
    "    n_x, n_y = X.shape[1], 1\n",
    "    print(n_x, n_y)\n",
    "    params = initialize_parameters(n_x, n_h, n_y)\n",
    "    \n",
    "    for i in range(num_iterations):\n",
    "        A2, cache = forward_propagation(X, params)\n",
    "        loss = compute_loss(A2, Y)\n",
    "        grads = backward_propagation(X, Y, params, cache)\n",
    "        params = update_parameters(params, grads, learning_rate)\n",
    "        \n",
    "        if i % 1000 == 0:\n",
    "            print(f\"Iteration {i}: Loss = {loss:.4f}\")\n",
    "    return params"
   ]
  },
  {
   "cell_type": "code",
   "execution_count": null,
   "id": "393a527c-9ea1-4ec0-849c-3534bd8dedd7",
   "metadata": {},
   "outputs": [],
   "source": [
    "def predict(X, params):\n",
    "    A2, _ = forward_propagation(X, params)\n",
    "    return (A2 > 0.5).astype(int).T"
   ]
  },
  {
   "cell_type": "code",
   "execution_count": null,
   "id": "deff1f68-ff73-42d6-bc40-4f9afba13bd5",
   "metadata": {},
   "outputs": [],
   "source": [
    "params = train(X_train, y_train, n_h=4, learning_rate=0.1, num_iterations=10000)\n",
    "\n",
    "train_preds = predict(X_train, params)\n",
    "test_preds = predict(X_test, params)\n",
    "train_acc = np.mean(train_preds == y_train) * 100\n",
    "test_acc = np.mean(test_preds == y_test) * 100\n",
    "print(f\"Train Accuracy: {train_acc:.2f}%\")\n",
    "print(f\"Test Accuracy: {test_acc:.2f}%\")"
   ]
  },
  {
   "cell_type": "code",
   "execution_count": null,
   "id": "b5224dab-7250-438a-87f9-d68039d70c5f",
   "metadata": {},
   "outputs": [],
   "source": [
    "def plot_decision_boundary(X, y, params):\n",
    "    x_min, x_max = X[:, 0].min() - 1, X[:, 0].max() + 1\n",
    "    y_min, y_max = X[:, 1].min() - 1, X[:, 1].max() + 1\n",
    "    xx, yy = np.meshgrid(np.linspace(x_min, x_max, 100), np.linspace(y_min, y_max, 100))\n",
    "    grid_points = np.c_[xx.ravel(), yy.ravel()]\n",
    "    predictions = predict(grid_points, params).reshape(xx.shape)\n",
    "    plt.contourf(xx, yy, predictions, alpha=0.6)\n",
    "    plt.scatter(X[:, 0], X[:, 1], c=y.ravel(), edgecolors='k')\n",
    "    plt.show()\n",
    "plot_decision_boundary(X, y, params)"
   ]
  },
  {
   "cell_type": "markdown",
   "id": "6d61d68c-9e02-4a66-8598-f332e589c2a9",
   "metadata": {},
   "source": [
    "## Task-2 [15pts]"
   ]
  },
  {
   "cell_type": "markdown",
   "id": "a0bef271-2d43-4570-bafc-b7723ce8e3ca",
   "metadata": {},
   "source": [
    "### XOR Function"
   ]
  },
  {
   "cell_type": "markdown",
   "id": "c9c76c18-8434-4bca-88da-7d5a1d4032d1",
   "metadata": {},
   "source": [
    "This Task helps to explores how to train a Feedforward Neural Network (FFN) to approximate mathematical functions. \n",
    "#### Objective:\n",
    "- Understand and generate data for different functions\n",
    "- Design a simple NN using PyTorch\n",
    "- rain model to accurately predict required outputs.\n",
    "- Understand the use of Linear & Non-Linear Activation Functions."
   ]
  },
  {
   "cell_type": "markdown",
   "id": "0d99255a-fc97-4d7e-8407-7348f09a88f6",
   "metadata": {},
   "source": [
    "#### XOR Truth Table\n",
    "\n",
    "XOR (exclusive OR) function, a fundamental problem in neural networks that demonstrates the need for non-linear activation functions.\n",
    "\n",
    "$\n",
    "\\begin{array}{|c|c|c|}\n",
    "\\hline\n",
    "A & B & A \\oplus B \\\\\n",
    "\\hline\n",
    "F & F & F \\\\\n",
    "F & T & T \\\\\n",
    "T & F & T \\\\\n",
    "T & T & F \\\\\n",
    "\\hline\n",
    "\\end{array}\n",
    "$\n"
   ]
  },
  {
   "cell_type": "code",
   "execution_count": null,
   "id": "2e5db3c4-fddb-4e49-a21f-237257e23834",
   "metadata": {},
   "outputs": [],
   "source": [
    "import torch\n",
    "import torch.nn as nn\n",
    "import torch.optim as optim\n",
    "import numpy as np\n",
    "import matplotlib.pyplot as plt"
   ]
  },
  {
   "cell_type": "markdown",
   "id": "b80514e6-f6ec-48a8-8db4-06776d3267ba",
   "metadata": {},
   "source": [
    "#### Step-1 Generate XOR data"
   ]
  },
  {
   "cell_type": "code",
   "execution_count": null,
   "id": "79651922",
   "metadata": {},
   "outputs": [],
   "source": [
    "def generate_xor_data():\n",
    "    # ====================== YOUR CODE HERE ======================\n",
    "\n",
    "    # ============================================================"
   ]
  },
  {
   "cell_type": "markdown",
   "id": "1b04c1a7-f771-4be6-8c97-6841cf1eeb2f",
   "metadata": {},
   "source": [
    "#### Step-2: Implement XOR Model"
   ]
  },
  {
   "cell_type": "code",
   "execution_count": null,
   "id": "bee59d85-4e58-4170-bdba-609848fb69c6",
   "metadata": {},
   "outputs": [],
   "source": [
    "class XORModel(nn.Module):\n",
    "    def __init__(self):\n",
    "        super(XORModel, self).__init__()\n",
    "        # ====================== YOUR CODE HERE ======================\n",
    "\n",
    "        # ============================================================\n",
    "\n",
    "    def forward(self, x):\n",
    "        # ====================== YOUR CODE HERE ======================\n",
    "\n",
    "        # ============================================================\n",
    "        return x"
   ]
  },
  {
   "cell_type": "markdown",
   "id": "de068082-0e2d-4507-ba64-469801571725",
   "metadata": {},
   "source": [
    "#### Step-3: Implement Training steps"
   ]
  },
  {
   "cell_type": "code",
   "execution_count": null,
   "id": "8e946110-20f1-4bec-86c1-1937b9916e10",
   "metadata": {
    "scrolled": true
   },
   "outputs": [],
   "source": [
    "num_epochs =  5000 # Number of Epochs\n",
    "learning_rate = 0.1 # Learning rate\n",
    "\n",
    "def train_model(model, X, y, epochs=num_epochs, lr=learning_rate):\n",
    "    # ====================== YOUR CODE HERE ======================\n",
    "\n",
    "    # ============================================================\n",
    "\n",
    "    losses = []\n",
    "    for epoch in range(epochs):\n",
    "        # ====================== YOUR CODE HERE ======================\n",
    "\n",
    "        # ============================================================\n",
    "\n",
    "    return losses"
   ]
  },
  {
   "cell_type": "markdown",
   "id": "1ba4e74e-730a-4e03-bc26-34202d1ee08d",
   "metadata": {},
   "source": [
    "#### Step-4: Define model to test predictions from model"
   ]
  },
  {
   "cell_type": "code",
   "execution_count": null,
   "id": "7c5a73f7-0c24-48b3-b142-b88c3e26c62b",
   "metadata": {},
   "outputs": [],
   "source": [
    "def test_model(model, X):\n",
    "    # ====================== YOUR CODE HERE ======================\n",
    "\n",
    "    # ============================================================"
   ]
  },
  {
   "cell_type": "code",
   "execution_count": null,
   "id": "5e6885e2-1510-44a2-b46e-741d6e188d22",
   "metadata": {},
   "outputs": [],
   "source": [
    "X, y = generate_xor_data()\n",
    "model = XORModel()\n",
    "losses = train_model(model, X, y)"
   ]
  },
  {
   "cell_type": "code",
   "execution_count": null,
   "id": "64ecbfc9-b0bf-4d5e-a0db-36f2a065eaac",
   "metadata": {},
   "outputs": [],
   "source": [
    "plt.plot(losses)\n",
    "plt.xlabel('Epochs')\n",
    "plt.ylabel('Loss')\n",
    "plt.title('Training Loss Curve')\n",
    "plt.show()"
   ]
  },
  {
   "cell_type": "code",
   "execution_count": null,
   "id": "1713ea3e-699c-4045-9ab3-eb5fde2a34a0",
   "metadata": {},
   "outputs": [],
   "source": [
    "predictions = test_model(model, X)\n",
    "print(\"Predictions:\\n\", predictions.numpy())"
   ]
  },
  {
   "cell_type": "markdown",
   "id": "fc2f80ed-d515-4077-b67a-6f44856872fb",
   "metadata": {},
   "source": [
    "## Task-3 [15pts]"
   ]
  },
  {
   "cell_type": "markdown",
   "id": "0f4c151c-246d-4e0e-9a59-317f1c95d37c",
   "metadata": {},
   "source": [
    "### Weierstrass function\n",
    "\n",
    "$f(x) = \\sum_{n=0}^{\\infty} a^n \\cos(b^n \\pi x)$ \n",
    "- $0<a<1$ \n",
    "- $b$ is a positive odd integer. \n",
    "- $ab>1+\\frac{3}{2}.\\pi$ \n"
   ]
  },
  {
   "cell_type": "markdown",
   "id": "5769f50d-7888-4d47-9e25-a55f2ae54b28",
   "metadata": {},
   "source": [
    "#### Step-1"
   ]
  },
  {
   "cell_type": "code",
   "execution_count": null,
   "id": "75223042-5d73-4b1a-864f-f4730236253b",
   "metadata": {},
   "outputs": [],
   "source": [
    "a = 0.1 # value of a\n",
    "def weierstrass(x, a=a, b=7, n=20):\n",
    "    # ====================== YOUR CODE HERE ======================\n",
    "\n",
    "    # ============================================================"
   ]
  },
  {
   "cell_type": "markdown",
   "id": "b32808a6-65f6-4bff-a741-a75941ebe525",
   "metadata": {},
   "source": [
    "#### Step-2"
   ]
  },
  {
   "cell_type": "code",
   "execution_count": null,
   "id": "1866d85c-a8df-426e-8cc1-b74dad80b457",
   "metadata": {},
   "outputs": [],
   "source": [
    "\n",
    "# ====================== YOUR CODE HERE ======================\n",
    "\n",
    "# ============================================================\n",
    "\n",
    "X_tensor = torch.tensor(X)\n",
    "y_tensor = torch.tensor(y)\n",
    "\n"
   ]
  },
  {
   "cell_type": "markdown",
   "id": "f4a5c699-0c01-40f9-b2d7-87340df290b9",
   "metadata": {},
   "source": [
    "#### Step-3"
   ]
  },
  {
   "cell_type": "code",
   "execution_count": null,
   "id": "4a746627-ad08-4521-a953-a8039677ec7b",
   "metadata": {},
   "outputs": [],
   "source": [
    "class FFN(nn.Module):\n",
    "    def __init__(self):\n",
    "        super(FFN, self).__init__()\n",
    "        # ====================== YOUR CODE HERE ======================\n",
    "\n",
    "        # ============================================================\n",
    "\n",
    "    def forward(self, x):\n",
    "        # ====================== YOUR CODE HERE ======================\n",
    "\n",
    "        # ============================================================\n",
    "\n"
   ]
  },
  {
   "cell_type": "markdown",
   "id": "38b107cb-0798-4f8b-91b6-37527ab079e9",
   "metadata": {},
   "source": [
    "#### Step-4"
   ]
  },
  {
   "cell_type": "code",
   "execution_count": null,
   "id": "cc10e533-c152-40e0-9470-3f29e5f8a888",
   "metadata": {},
   "outputs": [],
   "source": [
    "def train_ffn(model, X, y, epochs=5000, lr=0.001):\n",
    "    # ====================== YOUR CODE HERE ======================\n",
    "\n",
    "    # ============================================================\n",
    "    return losses"
   ]
  },
  {
   "cell_type": "code",
   "execution_count": null,
   "id": "6fbbac58-c937-423d-a224-323315af7fc4",
   "metadata": {},
   "outputs": [],
   "source": [
    "model = FFN()\n",
    "losses = train_ffn(model, X_tensor, y_tensor)"
   ]
  },
  {
   "cell_type": "code",
   "execution_count": null,
   "id": "f45ab5aa-8f7d-413c-8000-0866039cdbe9",
   "metadata": {},
   "outputs": [],
   "source": [
    "plt.plot(losses)\n",
    "plt.xlabel('Epochs')\n",
    "plt.ylabel('Loss')\n",
    "plt.title('Training Loss Curve')\n",
    "plt.show()"
   ]
  },
  {
   "cell_type": "markdown",
   "id": "1df4ad7e-d04c-4512-ad39-6db1bbd4f3bd",
   "metadata": {},
   "source": [
    "#### Step-5"
   ]
  },
  {
   "cell_type": "code",
   "execution_count": null,
   "id": "9505c831-10a0-41c6-be72-61f91f15fb3e",
   "metadata": {},
   "outputs": [],
   "source": [
    "\n",
    "with torch.no_grad():\n",
    "    # ====================== YOUR CODE HERE ======================\n",
    "\n",
    "    # ============================================================\n",
    "plt.plot(X, y, label='True Weierstrass Function', linestyle='dashed', color='blue')\n",
    "plt.plot(X, y_pred, label='FFN Approximation', color='red')\n",
    "plt.legend()\n",
    "plt.title('FFN Approximation of Weierstrass Function')\n",
    "plt.show()"
   ]
  },
  {
   "cell_type": "markdown",
   "id": "c9283d86-77ab-473c-8751-7b77b50266b6",
   "metadata": {},
   "source": [
    "## Task-4 [50pts]"
   ]
  },
  {
   "cell_type": "code",
   "execution_count": null,
   "id": "619fd718-75bd-4c80-95eb-c111d2286790",
   "metadata": {},
   "outputs": [],
   "source": [
    "import torch\n",
    "import torch.nn as nn\n",
    "import torch.optim as optim\n",
    "import torchvision\n",
    "import torchvision.transforms as transforms\n",
    "import matplotlib.pyplot as plt\n",
    "import numpy as np"
   ]
  },
  {
   "cell_type": "markdown",
   "id": "a4efe909-6e0f-48d7-8986-8f108dfa53bd",
   "metadata": {},
   "source": [
    "The goal of this task is to understand the impact of various hyperparameters on the performance of a deep learning model trained on the IRiS dataset. You will conduct experiments by modifying activation functions, learning rate, regularization techniques, and network depth. You will then analyze the results using plots."
   ]
  },
  {
   "cell_type": "markdown",
   "id": "8b6534ad-cb36-4dba-8d39-eec1c8cb0cee",
   "metadata": {},
   "source": [
    "**4.a)** Change the Activation Functions and Plot Accuracy Curves\n",
    "- ReLU\n",
    "- Sigmoid\n",
    "- Tanh\n",
    "- Leaky ReLU\n",
    "- Swish\n",
    "- ELU\n",
    "\n",
    "**4.b)** Change the Learning Rate and Plot Accuracy Curves\n",
    "\n",
    "**4.c)** Change Regularization and Compare Results \n",
    "- No regularization (baseline model)\n",
    "- L1 Regularization\n",
    "- L2 Regularization (Weight Decay)\n",
    "- Dropout (50% probability for some layers)\n",
    "\n",
    "**4.d)** Add Layers and Observe Accuracy Changes.\n",
    "- Baseline model: 3 hidden layers (256 → 128 → 64)\n",
    "- Deeper model: 5 hidden layers (512 → 256 → 128 → 64 → 32)\n",
    "- Shallow model: 2 hidden layers (128 → 64)"
   ]
  },
  {
   "cell_type": "code",
   "execution_count": null,
   "id": "bf9016b4-6cc0-4cb3-b34e-476ddaf56040",
   "metadata": {},
   "outputs": [],
   "source": [
    "from sklearn import datasets\n",
    "import pandas as pd\n",
    "\n",
    "iris = datasets.load_iris()"
   ]
  },
  {
   "cell_type": "code",
   "execution_count": null,
   "id": "f3e8b7fe-369d-4b01-9c56-16df98906468",
   "metadata": {},
   "outputs": [],
   "source": [
    "activation_functions = {\n",
    "    \"ReLU\": nn.ReLU(),\n",
    "    \"Sigmoid\": nn.Sigmoid(),\n",
    "    \"Tanh\": nn.Tanh(),\n",
    "    \"LeakyReLU\": nn.LeakyReLU(),\n",
    "    \"ELU\": nn.ELU()\n",
    "}"
   ]
  },
  {
   "cell_type": "code",
   "execution_count": null,
   "id": "7732dc38-18e6-417a-98ab-49a22b367377",
   "metadata": {},
   "outputs": [],
   "source": [
    "# Start Here\n",
    "\n"
   ]
  },
  {
   "cell_type": "markdown",
   "id": "bb88a057-ab5e-401e-a27b-5e4ecd0c76b5",
   "metadata": {},
   "source": [
    "### Academic Integrity\n",
    "\n",
    "Academic integrity is critical to the learning process. It is your responsibility as a student to complete your work in an honest fashion, upholding the expectations your individual instructors have for you in this regard. The ultimate goal is to ensure that you learn the content in your courses in accordance with UB’s academic integrity principles regardless of whether instruction is in-person or remote. Thank you for upholding your own personal integrity and ensuring UB’s tradition of academic excellence. For further details, please visit https://www.buffalo.edu/academic-integrity.html."
   ]
  }
 ],
 "metadata": {
  "kernelspec": {
   "display_name": "Python 3 (ipykernel)",
   "language": "python",
   "name": "python3"
  },
  "language_info": {
   "codemirror_mode": {
    "name": "ipython",
    "version": 3
   },
   "file_extension": ".py",
   "mimetype": "text/x-python",
   "name": "python",
   "nbconvert_exporter": "python",
   "pygments_lexer": "ipython3",
   "version": "3.12.7"
  }
 },
 "nbformat": 4,
 "nbformat_minor": 5
}
